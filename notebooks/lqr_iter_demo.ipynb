{
 "cells": [
  {
   "cell_type": "markdown",
   "metadata": {
    "pycharm": {
     "name": "#%% md\n"
    }
   },
   "source": [
    "# Demonstrate the LQR iterative solution"
   ]
  },
  {
   "cell_type": "markdown",
   "metadata": {},
   "source": [
    "## Imports"
   ]
  },
  {
   "cell_type": "code",
   "execution_count": 1,
   "metadata": {
    "collapsed": false,
    "jupyter": {
     "outputs_hidden": false
    },
    "pycharm": {
     "name": "#%%\n"
    },
    "ExecuteTime": {
     "end_time": "2023-06-20T20:54:56.561951Z",
     "start_time": "2023-06-20T20:54:55.429773Z"
    }
   },
   "outputs": [],
   "source": [
    "import numpy as np\n",
    "import parallel_control.lqt_np as lqt_np\n",
    "import parallel_control.disc as disc\n",
    "import matplotlib.pyplot as plt"
   ]
  },
  {
   "cell_type": "markdown",
   "metadata": {
    "pycharm": {
     "name": "#%% md\n"
    }
   },
   "source": [
    "## Create the state space model"
   ]
  },
  {
   "cell_type": "code",
   "execution_count": 2,
   "metadata": {
    "collapsed": false,
    "jupyter": {
     "outputs_hidden": false
    },
    "pycharm": {
     "name": "#%%\n"
    },
    "ExecuteTime": {
     "end_time": "2023-06-20T20:54:56.621114Z",
     "start_time": "2023-06-20T20:54:56.562209Z"
    }
   },
   "outputs": [],
   "source": [
    "    dt = 1.0\n",
    "\n",
    "    U = 0.1 * np.eye(2)\n",
    "    X = np.diag(np.array([1.0,1.0,0.01,0.01]))\n",
    "    F = np.array([[0.0, 0.0, 1.0, 0.0],\n",
    "                  [0.0, 0.0, 0.0, 1.0],\n",
    "                  [0.0, 0.0, 0.0, 0.0],\n",
    "                  [0.0, 0.0, 0.0, 0.0]])\n",
    "    Qc = np.diag(np.array([1,1]))\n",
    "\n",
    "    L = np.array([[0.0,0.0],\n",
    "                  [0.0,0.0],\n",
    "                  [1.0,0.0],\n",
    "                  [0.0,1.0]])\n",
    "\n",
    "    G = np.array([[0.0,0.0],\n",
    "                  [0.0,0.0],\n",
    "                  [1.0,0.0],\n",
    "                  [0.0,1.0]])\n",
    "\n",
    "    F, L, Q = disc.lti_disc_u(F, L, G, Qc, dt)\n",
    "\n",
    "    lqr = lqt_np.LQR(F, L, X, U, X)"
   ]
  },
  {
   "cell_type": "markdown",
   "metadata": {
    "pycharm": {
     "name": "#%% md\n"
    }
   },
   "source": [
    "## Solve stationary LQR and plot the error as function of number of iterations"
   ]
  },
  {
   "cell_type": "code",
   "execution_count": 3,
   "metadata": {
    "collapsed": false,
    "jupyter": {
     "outputs_hidden": false
    },
    "pycharm": {
     "name": "#%%\n"
    },
    "ExecuteTime": {
     "end_time": "2023-06-20T20:54:57.057416Z",
     "start_time": "2023-06-20T20:54:56.627673Z"
    }
   },
   "outputs": [
    {
     "name": "stdout",
     "output_type": "stream",
     "text": [
      "[[1.44884795 0.         0.32015621 0.        ]\n",
      " [0.         1.44884795 0.         0.32015621]\n",
      " [0.32015621 0.         0.30877956 0.        ]\n",
      " [0.         0.32015621 0.         0.30877956]]\n"
     ]
    },
    {
     "data": {
      "text/plain": "<Figure size 504x360 with 1 Axes>",
      "image/png": "[encoded data removed]"
     },
     "metadata": {
      "needs_background": "light"
     },
     "output_type": "display_data"
    }
   ],
   "source": [
    "N = 16\n",
    "\n",
    "iter = np.empty(N)\n",
    "err1 = np.empty(N)\n",
    "err2 = np.empty(N)\n",
    "K0, S0 = lqr.lqrDare()\n",
    "for n in range(N):\n",
    "    K1, S1 = lqr.lqrIter(n+1)\n",
    "    K2, S2 = lqr.lqrDouble(n+1)\n",
    "    err1[n] = np.linalg.norm(S1 - S0)\n",
    "    err2[n] = np.linalg.norm(S2 - S0)\n",
    "    iter[n] = n+1\n",
    "\n",
    "fig, ax = plt.subplots(figsize=(7, 5))\n",
    "ax.semilogy(iter, err1, label=\"Classical\", color=\"b\", linestyle=\"--\")\n",
    "ax.semilogy(iter, err2, label=\"Doubling\", color=\"r\", linestyle=\"-\")\n",
    "_ = plt.legend()\n",
    "\n",
    "print(S0)"
   ]
  },
  {
   "cell_type": "code",
   "execution_count": 3,
   "metadata": {
    "collapsed": false,
    "jupyter": {
     "outputs_hidden": false
    },
    "pycharm": {
     "name": "#%%\n"
    },
    "ExecuteTime": {
     "end_time": "2023-06-20T20:54:57.060604Z",
     "start_time": "2023-06-20T20:54:57.058047Z"
    }
   },
   "outputs": [],
   "source": []
  }
 ],
 "metadata": {
  "kernelspec": {
   "display_name": "PyCharm (src)",
   "language": "python",
   "name": "pycharm-6795ae3d"
  },
  "language_info": {
   "codemirror_mode": {
    "name": "ipython",
    "version": 3
   },
   "file_extension": ".py",
   "mimetype": "text/x-python",
   "name": "python",
   "nbconvert_exporter": "python",
   "pygments_lexer": "ipython3",
   "version": "3.8.8"
  }
 },
 "nbformat": 4,
 "nbformat_minor": 4
}
