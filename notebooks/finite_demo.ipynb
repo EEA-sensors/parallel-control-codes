{
 "cells": [
  {
   "cell_type": "markdown",
   "metadata": {
    "pycharm": {
     "name": "#%% md\n"
    }
   },
   "source": [
    "# Finite-state model demo using numpy and TensorFlow\n",
    "\n",
    "Author: Simo Särkkä\n",
    "\n",
    "This experiment is about solving the optimal control problem in a game where some flying device moves\n",
    "in a cave from left to right with a constant speed and tries to avoid rough terrain by taking control actions up,\n",
    "right, or no action.\n",
    "\n",
    "The first part of the demo is written in pure numpy, but the second part needs TensorFlow."
   ]
  },
  {
   "cell_type": "markdown",
   "metadata": {
    "pycharm": {
     "name": "#%% md\n"
    }
   },
   "source": [
    "## Imports"
   ]
  },
  {
   "cell_type": "code",
   "execution_count": 1,
   "metadata": {
    "collapsed": false,
    "jupyter": {
     "outputs_hidden": false
    },
    "pycharm": {
     "name": "#%%\n"
    },
    "ExecuteTime": {
     "end_time": "2023-06-20T20:42:10.871480Z",
     "start_time": "2023-06-20T20:42:09.943256Z"
    }
   },
   "outputs": [],
   "source": [
    "import numpy as np\n",
    "import parallel_control.fsc_np as fsc_np\n",
    "import math\n",
    "import parallel_control.finite_model_np as finite_model_np\n",
    "import matplotlib.pyplot as plt"
   ]
  },
  {
   "cell_type": "markdown",
   "metadata": {
    "pycharm": {
     "name": "#%% md\n"
    }
   },
   "source": [
    "## Generate and plot the game data; apply sequential FSC\n"
   ]
  },
  {
   "cell_type": "code",
   "execution_count": 2,
   "metadata": {
    "collapsed": false,
    "jupyter": {
     "outputs_hidden": false
    },
    "pycharm": {
     "name": "#%%\n"
    },
    "ExecuteTime": {
     "end_time": "2023-06-20T20:42:11.026162Z",
     "start_time": "2023-06-20T20:42:10.876436Z"
    }
   },
   "outputs": [
    {
     "data": {
      "text/plain": "<Figure size 720x576 with 1 Axes>",
      "image/png": "[encoded data removed]"
     },
     "metadata": {
      "needs_background": "light"
     },
     "output_type": "display_data"
    }
   ],
   "source": [
    "T = 100\n",
    "model = finite_model_np.FiniteModel()\n",
    "track, x0 = model.genData(T, nx=21)\n",
    "\n",
    "fsc = model.getFSC(track)\n",
    "u_list_seq, V_list_seq = fsc.seqBackwardPass()\n",
    "min_cost_seq = V_list_seq[0][x0]\n",
    "min_u_seq, min_x_seq = fsc.seqForwardPass(x0,u_list_seq)\n",
    "\n",
    "steps = np.array(range(T))\n",
    "\n",
    "plt.figure(figsize=(10,8))\n",
    "plt.imshow(track)\n",
    "plt.plot(steps + 0.5, np.array(min_x_seq[0:-1]) + 0.5, color='r')\n",
    "plt.show()\n",
    "\n",
    "np.savetxt('res/fsc_track.txt',track)\n",
    "np.savetxt('res/fsc_min_x_seq.txt',np.array(min_x_seq[0:-1]))"
   ]
  },
  {
   "cell_type": "markdown",
   "metadata": {
    "pycharm": {
     "name": "#%% md\n"
    }
   },
   "source": [
    "## Check that the parallel versions give the same results\n"
   ]
  },
  {
   "cell_type": "code",
   "execution_count": 3,
   "metadata": {
    "collapsed": false,
    "jupyter": {
     "outputs_hidden": false
    },
    "pycharm": {
     "name": "#%%\n"
    },
    "ExecuteTime": {
     "end_time": "2023-06-20T20:42:11.789555Z",
     "start_time": "2023-06-20T20:42:11.296968Z"
    }
   },
   "outputs": [
    {
     "name": "stdout",
     "output_type": "stream",
     "text": [
      "min_cost_seq = 24.580000\n",
      "min_cost_par = 24.580000\n",
      "pFSC1 dx = 0\n",
      "pFSC1 du = 0\n",
      "pFSC2 dx = 0\n",
      "pFSC2 du = 0\n"
     ]
    }
   ],
   "source": [
    "u_list_par, V_list_par = fsc.parBackwardPass()\n",
    "min_u_par1, min_x_par1 = fsc.parForwardPass(x0,u_list_par)\n",
    "min_cost_par = V_list_par[0][x0]\n",
    "min_u_par2, min_x_par2 = fsc.parFwdBwdPass(x0,u_list_par,V_list_par)\n",
    "\n",
    "print(\"min_cost_seq = %.6f\" % min_cost_seq)\n",
    "print(\"min_cost_par = %.6f\" % min_cost_par)\n",
    "\n",
    "print(\"pFSC1 dx = %g\" % np.max(np.abs(np.array(min_x_par1) - np.array(min_x_seq))))\n",
    "print(\"pFSC1 du = %g\" % np.max(np.abs(np.array(min_u_par1) - np.array(min_u_seq))))\n",
    "print(\"pFSC2 dx = %g\" % np.max(np.abs(np.array(min_x_par2) - np.array(min_x_seq))))\n",
    "print(\"pFSC2 du = %g\" % np.max(np.abs(np.array(min_u_par2) - np.array(min_u_seq))))"
   ]
  },
  {
   "cell_type": "markdown",
   "metadata": {
    "pycharm": {
     "name": "#%% md\n"
    }
   },
   "source": [
    "## Imports for the TensorFlow version"
   ]
  },
  {
   "cell_type": "code",
   "execution_count": 4,
   "metadata": {
    "collapsed": false,
    "jupyter": {
     "outputs_hidden": false
    },
    "pycharm": {
     "name": "#%%\n"
    },
    "ExecuteTime": {
     "end_time": "2023-06-20T20:42:16.436090Z",
     "start_time": "2023-06-20T20:42:11.790624Z"
    }
   },
   "outputs": [],
   "source": [
    "import tensorflow as tf\n",
    "import parallel_control.fsc_tf as fsc_tf"
   ]
  },
  {
   "cell_type": "markdown",
   "metadata": {
    "pycharm": {
     "name": "#%% md\n"
    }
   },
   "source": [
    "## Run and check that the results match"
   ]
  },
  {
   "cell_type": "code",
   "execution_count": 5,
   "metadata": {
    "collapsed": false,
    "jupyter": {
     "outputs_hidden": false
    },
    "pycharm": {
     "name": "#%%\n"
    },
    "ExecuteTime": {
     "end_time": "2023-06-20T20:42:17.938108Z",
     "start_time": "2023-06-20T20:42:16.438714Z"
    }
   },
   "outputs": [
    {
     "name": "stdout",
     "output_type": "stream",
     "text": [
      "Num GPUs Available:  0\n",
      "min_cost_seq = 24.580000\n",
      "min_cost_tf_seq = 24.580000\n",
      "TF-FSC dx = 0\n",
      "TF-FSC du = 0\n",
      "(100, 21, 3)\n",
      "(100, 21, 3)\n",
      "(21,)\n",
      "TF-pFSC1 dx = 0\n",
      "TF-pFSC1 du = 0\n",
      "TF-pFSC2 dx = 0\n",
      "TF-pFSC2 du = 0\n"
     ]
    }
   ],
   "source": [
    "tf_min_x_seq = tf.convert_to_tensor(min_x_seq, dtype=tf.int32)\n",
    "tf_min_u_seq = tf.convert_to_tensor(min_u_seq, dtype=tf.int32)\n",
    "\n",
    "print(\"Num GPUs Available: \", len(tf.config.list_physical_devices('GPU')))\n",
    "\n",
    "with tf.device('/GPU:0'):\n",
    "    fs, Ls, LT = fsc_tf.fsc_np_to_tf(fsc, dtype=tf.float64)\n",
    "    us, Vs = fsc_tf.fsc_seq_backwardpass(fs, Ls, LT)\n",
    "    min_xs_tf_seq, min_us_tf_seq = fsc_tf.fsc_seq_forwardpass(tf.constant(x0, dtype=fs.dtype), fs, us)\n",
    "    min_cost_tf_seq = Vs[0,x0]\n",
    "\n",
    "print(\"min_cost_seq = %.6f\" % min_cost_seq)\n",
    "print(\"min_cost_tf_seq = %.6f\" % min_cost_tf_seq)\n",
    "\n",
    "print(\"TF-FSC dx = %g\" % tf.reduce_max(tf.abs(min_xs_tf_seq - tf_min_x_seq)))\n",
    "print(\"TF-FSC du = %g\" % tf.reduce_max(tf.abs(min_us_tf_seq - tf_min_u_seq)))\n",
    "\n",
    "with tf.device('/GPU:0'):\n",
    "    print(fs.shape)\n",
    "    print(Ls.shape)\n",
    "    print(LT.shape)\n",
    "    us, Vs = fsc_tf.fsc_par_backwardpass(fs, Ls, LT)\n",
    "    min_us_tf_par1, min_xs_tf_par1 = fsc_tf.fsc_par_forwardpass(x0, fs, us)\n",
    "    min_cost_tf_par = Vs[0,x0]\n",
    "    min_us_tf_par2, min_xs_tf_par2 = fsc_tf.fsc_par_fwdbwdpass(x0, fs, Ls, us, Vs)\n",
    "\n",
    "print(\"TF-pFSC1 dx = %g\" % tf.reduce_max(tf.abs(min_xs_tf_par1 - tf_min_x_seq)))\n",
    "print(\"TF-pFSC1 du = %g\" % tf.reduce_max(tf.abs(min_us_tf_par1 - tf_min_u_seq)))\n",
    "print(\"TF-pFSC2 dx = %g\" % tf.reduce_max(tf.abs(min_xs_tf_par2 - tf_min_x_seq)))\n",
    "print(\"TF-pFSC2 du = %g\" % tf.reduce_max(tf.abs(min_us_tf_par2 - tf_min_u_seq)))\n",
    "\n"
   ]
  },
  {
   "cell_type": "code",
   "execution_count": 5,
   "metadata": {
    "collapsed": false,
    "jupyter": {
     "outputs_hidden": false
    },
    "pycharm": {
     "name": "#%%\n"
    },
    "ExecuteTime": {
     "end_time": "2023-06-20T20:42:17.940604Z",
     "start_time": "2023-06-20T20:42:17.938409Z"
    }
   },
   "outputs": [],
   "source": []
  }
 ],
 "metadata": {
  "kernelspec": {
   "display_name": "PyCharm (src)",
   "language": "python",
   "name": "pycharm-6795ae3d"
  },
  "language_info": {
   "codemirror_mode": {
    "name": "ipython",
    "version": 3
   },
   "file_extension": ".py",
   "mimetype": "text/x-python",
   "name": "python",
   "nbconvert_exporter": "python",
   "pygments_lexer": "ipython3",
   "version": "3.8.8"
  }
 },
 "nbformat": 4,
 "nbformat_minor": 4
}
